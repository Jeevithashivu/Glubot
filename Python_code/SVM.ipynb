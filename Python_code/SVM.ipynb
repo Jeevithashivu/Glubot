{
 "cells": [
  {
   "cell_type": "code",
   "execution_count": 57,
   "metadata": {},
   "outputs": [],
   "source": [
    "import pandas as pd\n",
    "import numpy as np\n",
    "from sklearn.model_selection import train_test_split\n",
    "from sklearn.metrics import confusion_matrix\n",
    "from sklearn.metrics import classification_report\n",
    "from sklearn.model_selection import cross_val_score\n",
    "from sklearn.model_selection import KFold\n",
    "from sklearn import metrics"
   ]
  },
  {
   "cell_type": "code",
   "execution_count": 60,
   "metadata": {},
   "outputs": [
    {
     "data": {
      "text/html": [
       "<div>\n",
       "<style scoped>\n",
       "    .dataframe tbody tr th:only-of-type {\n",
       "        vertical-align: middle;\n",
       "    }\n",
       "\n",
       "    .dataframe tbody tr th {\n",
       "        vertical-align: top;\n",
       "    }\n",
       "\n",
       "    .dataframe thead th {\n",
       "        text-align: right;\n",
       "    }\n",
       "</style>\n",
       "<table border=\"1\" class=\"dataframe\">\n",
       "  <thead>\n",
       "    <tr style=\"text-align: right;\">\n",
       "      <th></th>\n",
       "      <th>Age (y)</th>\n",
       "      <th>Gender(1, male; 2, female)</th>\n",
       "      <th>BMI(kg/m2)</th>\n",
       "      <th>censor of diabetes at followup(1, Yes; 0, No)</th>\n",
       "      <th>smoking status(1,current smoker;2, ever smoker;3,never smoker)</th>\n",
       "      <th>drinking status(1,current drinker;2, ever drinker;3,never drinker)</th>\n",
       "      <th>family histroy of diabetes(1,Yes;0,No)</th>\n",
       "    </tr>\n",
       "  </thead>\n",
       "  <tbody>\n",
       "    <tr>\n",
       "      <td>0</td>\n",
       "      <td>43</td>\n",
       "      <td>2</td>\n",
       "      <td>19.3</td>\n",
       "      <td>0</td>\n",
       "      <td>3.0</td>\n",
       "      <td>3.0</td>\n",
       "      <td>1</td>\n",
       "    </tr>\n",
       "    <tr>\n",
       "      <td>1</td>\n",
       "      <td>34</td>\n",
       "      <td>1</td>\n",
       "      <td>20.0</td>\n",
       "      <td>0</td>\n",
       "      <td>NaN</td>\n",
       "      <td>NaN</td>\n",
       "      <td>0</td>\n",
       "    </tr>\n",
       "    <tr>\n",
       "      <td>2</td>\n",
       "      <td>32</td>\n",
       "      <td>2</td>\n",
       "      <td>20.7</td>\n",
       "      <td>0</td>\n",
       "      <td>NaN</td>\n",
       "      <td>NaN</td>\n",
       "      <td>0</td>\n",
       "    </tr>\n",
       "    <tr>\n",
       "      <td>3</td>\n",
       "      <td>59</td>\n",
       "      <td>1</td>\n",
       "      <td>23.1</td>\n",
       "      <td>0</td>\n",
       "      <td>3.0</td>\n",
       "      <td>3.0</td>\n",
       "      <td>0</td>\n",
       "    </tr>\n",
       "    <tr>\n",
       "      <td>4</td>\n",
       "      <td>30</td>\n",
       "      <td>2</td>\n",
       "      <td>18.1</td>\n",
       "      <td>0</td>\n",
       "      <td>NaN</td>\n",
       "      <td>NaN</td>\n",
       "      <td>0</td>\n",
       "    </tr>\n",
       "    <tr>\n",
       "      <td>...</td>\n",
       "      <td>...</td>\n",
       "      <td>...</td>\n",
       "      <td>...</td>\n",
       "      <td>...</td>\n",
       "      <td>...</td>\n",
       "      <td>...</td>\n",
       "      <td>...</td>\n",
       "    </tr>\n",
       "    <tr>\n",
       "      <td>211828</td>\n",
       "      <td>41</td>\n",
       "      <td>1</td>\n",
       "      <td>24.5</td>\n",
       "      <td>0</td>\n",
       "      <td>NaN</td>\n",
       "      <td>NaN</td>\n",
       "      <td>0</td>\n",
       "    </tr>\n",
       "    <tr>\n",
       "      <td>211829</td>\n",
       "      <td>31</td>\n",
       "      <td>2</td>\n",
       "      <td>18.8</td>\n",
       "      <td>0</td>\n",
       "      <td>NaN</td>\n",
       "      <td>NaN</td>\n",
       "      <td>0</td>\n",
       "    </tr>\n",
       "    <tr>\n",
       "      <td>211830</td>\n",
       "      <td>30</td>\n",
       "      <td>2</td>\n",
       "      <td>17.1</td>\n",
       "      <td>0</td>\n",
       "      <td>NaN</td>\n",
       "      <td>NaN</td>\n",
       "      <td>0</td>\n",
       "    </tr>\n",
       "    <tr>\n",
       "      <td>211831</td>\n",
       "      <td>43</td>\n",
       "      <td>1</td>\n",
       "      <td>25.6</td>\n",
       "      <td>0</td>\n",
       "      <td>NaN</td>\n",
       "      <td>NaN</td>\n",
       "      <td>0</td>\n",
       "    </tr>\n",
       "    <tr>\n",
       "      <td>211832</td>\n",
       "      <td>57</td>\n",
       "      <td>1</td>\n",
       "      <td>27.7</td>\n",
       "      <td>1</td>\n",
       "      <td>1.0</td>\n",
       "      <td>2.0</td>\n",
       "      <td>0</td>\n",
       "    </tr>\n",
       "  </tbody>\n",
       "</table>\n",
       "<p>211833 rows × 7 columns</p>\n",
       "</div>"
      ],
      "text/plain": [
       "        Age (y)  Gender(1, male; 2, female)  BMI(kg/m2)  \\\n",
       "0            43                           2        19.3   \n",
       "1            34                           1        20.0   \n",
       "2            32                           2        20.7   \n",
       "3            59                           1        23.1   \n",
       "4            30                           2        18.1   \n",
       "...         ...                         ...         ...   \n",
       "211828       41                           1        24.5   \n",
       "211829       31                           2        18.8   \n",
       "211830       30                           2        17.1   \n",
       "211831       43                           1        25.6   \n",
       "211832       57                           1        27.7   \n",
       "\n",
       "        censor of diabetes at followup(1, Yes; 0, No)  \\\n",
       "0                                                   0   \n",
       "1                                                   0   \n",
       "2                                                   0   \n",
       "3                                                   0   \n",
       "4                                                   0   \n",
       "...                                               ...   \n",
       "211828                                              0   \n",
       "211829                                              0   \n",
       "211830                                              0   \n",
       "211831                                              0   \n",
       "211832                                              1   \n",
       "\n",
       "        smoking status(1,current smoker;2, ever smoker;3,never smoker)  \\\n",
       "0                                                     3.0                \n",
       "1                                                     NaN                \n",
       "2                                                     NaN                \n",
       "3                                                     3.0                \n",
       "4                                                     NaN                \n",
       "...                                                   ...                \n",
       "211828                                                NaN                \n",
       "211829                                                NaN                \n",
       "211830                                                NaN                \n",
       "211831                                                NaN                \n",
       "211832                                                1.0                \n",
       "\n",
       "        drinking status(1,current drinker;2, ever drinker;3,never drinker)  \\\n",
       "0                                                     3.0                    \n",
       "1                                                     NaN                    \n",
       "2                                                     NaN                    \n",
       "3                                                     3.0                    \n",
       "4                                                     NaN                    \n",
       "...                                                   ...                    \n",
       "211828                                                NaN                    \n",
       "211829                                                NaN                    \n",
       "211830                                                NaN                    \n",
       "211831                                                NaN                    \n",
       "211832                                                2.0                    \n",
       "\n",
       "        family histroy of diabetes(1,Yes;0,No)  \n",
       "0                                            1  \n",
       "1                                            0  \n",
       "2                                            0  \n",
       "3                                            0  \n",
       "4                                            0  \n",
       "...                                        ...  \n",
       "211828                                       0  \n",
       "211829                                       0  \n",
       "211830                                       0  \n",
       "211831                                       0  \n",
       "211832                                       0  \n",
       "\n",
       "[211833 rows x 7 columns]"
      ]
     },
     "execution_count": 60,
     "metadata": {},
     "output_type": "execute_result"
    }
   ],
   "source": [
    "#reading data from csv file that is in same directory as python process\n",
    "col_list = [\"Age (y)\",\"Gender(1, male; 2, female)\",\"BMI(kg/m2)\",\"censor of diabetes at followup(1, Yes; 0, No)\",\"smoking status(1,current smoker;2, ever smoker;3,never smoker)\",\n",
    "            \"drinking status(1,current drinker;2, ever drinker;3,never drinker)\",\"family histroy of diabetes(1,Yes;0,No)\"]\n",
    "data1= pd.read_csv(\"RC Health Care Data-20180820.csv\",usecols=col_list)\n",
    "data1"
   ]
  },
  {
   "cell_type": "code",
   "execution_count": 61,
   "metadata": {},
   "outputs": [
    {
     "data": {
      "text/html": [
       "<div>\n",
       "<style scoped>\n",
       "    .dataframe tbody tr th:only-of-type {\n",
       "        vertical-align: middle;\n",
       "    }\n",
       "\n",
       "    .dataframe tbody tr th {\n",
       "        vertical-align: top;\n",
       "    }\n",
       "\n",
       "    .dataframe thead th {\n",
       "        text-align: right;\n",
       "    }\n",
       "</style>\n",
       "<table border=\"1\" class=\"dataframe\">\n",
       "  <thead>\n",
       "    <tr style=\"text-align: right;\">\n",
       "      <th></th>\n",
       "      <th>Age</th>\n",
       "      <th>Gender</th>\n",
       "      <th>BMI</th>\n",
       "      <th>Outcome</th>\n",
       "      <th>smoking</th>\n",
       "      <th>drinking</th>\n",
       "      <th>family</th>\n",
       "    </tr>\n",
       "  </thead>\n",
       "  <tbody>\n",
       "    <tr>\n",
       "      <td>0</td>\n",
       "      <td>43</td>\n",
       "      <td>2</td>\n",
       "      <td>19.3</td>\n",
       "      <td>0</td>\n",
       "      <td>3.0</td>\n",
       "      <td>3.0</td>\n",
       "      <td>1</td>\n",
       "    </tr>\n",
       "    <tr>\n",
       "      <td>1</td>\n",
       "      <td>34</td>\n",
       "      <td>1</td>\n",
       "      <td>20.0</td>\n",
       "      <td>0</td>\n",
       "      <td>NaN</td>\n",
       "      <td>NaN</td>\n",
       "      <td>0</td>\n",
       "    </tr>\n",
       "    <tr>\n",
       "      <td>2</td>\n",
       "      <td>32</td>\n",
       "      <td>2</td>\n",
       "      <td>20.7</td>\n",
       "      <td>0</td>\n",
       "      <td>NaN</td>\n",
       "      <td>NaN</td>\n",
       "      <td>0</td>\n",
       "    </tr>\n",
       "    <tr>\n",
       "      <td>3</td>\n",
       "      <td>59</td>\n",
       "      <td>1</td>\n",
       "      <td>23.1</td>\n",
       "      <td>0</td>\n",
       "      <td>3.0</td>\n",
       "      <td>3.0</td>\n",
       "      <td>0</td>\n",
       "    </tr>\n",
       "    <tr>\n",
       "      <td>4</td>\n",
       "      <td>30</td>\n",
       "      <td>2</td>\n",
       "      <td>18.1</td>\n",
       "      <td>0</td>\n",
       "      <td>NaN</td>\n",
       "      <td>NaN</td>\n",
       "      <td>0</td>\n",
       "    </tr>\n",
       "    <tr>\n",
       "      <td>...</td>\n",
       "      <td>...</td>\n",
       "      <td>...</td>\n",
       "      <td>...</td>\n",
       "      <td>...</td>\n",
       "      <td>...</td>\n",
       "      <td>...</td>\n",
       "      <td>...</td>\n",
       "    </tr>\n",
       "    <tr>\n",
       "      <td>211828</td>\n",
       "      <td>41</td>\n",
       "      <td>1</td>\n",
       "      <td>24.5</td>\n",
       "      <td>0</td>\n",
       "      <td>NaN</td>\n",
       "      <td>NaN</td>\n",
       "      <td>0</td>\n",
       "    </tr>\n",
       "    <tr>\n",
       "      <td>211829</td>\n",
       "      <td>31</td>\n",
       "      <td>2</td>\n",
       "      <td>18.8</td>\n",
       "      <td>0</td>\n",
       "      <td>NaN</td>\n",
       "      <td>NaN</td>\n",
       "      <td>0</td>\n",
       "    </tr>\n",
       "    <tr>\n",
       "      <td>211830</td>\n",
       "      <td>30</td>\n",
       "      <td>2</td>\n",
       "      <td>17.1</td>\n",
       "      <td>0</td>\n",
       "      <td>NaN</td>\n",
       "      <td>NaN</td>\n",
       "      <td>0</td>\n",
       "    </tr>\n",
       "    <tr>\n",
       "      <td>211831</td>\n",
       "      <td>43</td>\n",
       "      <td>1</td>\n",
       "      <td>25.6</td>\n",
       "      <td>0</td>\n",
       "      <td>NaN</td>\n",
       "      <td>NaN</td>\n",
       "      <td>0</td>\n",
       "    </tr>\n",
       "    <tr>\n",
       "      <td>211832</td>\n",
       "      <td>57</td>\n",
       "      <td>1</td>\n",
       "      <td>27.7</td>\n",
       "      <td>1</td>\n",
       "      <td>1.0</td>\n",
       "      <td>2.0</td>\n",
       "      <td>0</td>\n",
       "    </tr>\n",
       "  </tbody>\n",
       "</table>\n",
       "<p>211833 rows × 7 columns</p>\n",
       "</div>"
      ],
      "text/plain": [
       "        Age  Gender   BMI  Outcome  smoking  drinking  family\n",
       "0        43       2  19.3        0      3.0       3.0       1\n",
       "1        34       1  20.0        0      NaN       NaN       0\n",
       "2        32       2  20.7        0      NaN       NaN       0\n",
       "3        59       1  23.1        0      3.0       3.0       0\n",
       "4        30       2  18.1        0      NaN       NaN       0\n",
       "...     ...     ...   ...      ...      ...       ...     ...\n",
       "211828   41       1  24.5        0      NaN       NaN       0\n",
       "211829   31       2  18.8        0      NaN       NaN       0\n",
       "211830   30       2  17.1        0      NaN       NaN       0\n",
       "211831   43       1  25.6        0      NaN       NaN       0\n",
       "211832   57       1  27.7        1      1.0       2.0       0\n",
       "\n",
       "[211833 rows x 7 columns]"
      ]
     },
     "execution_count": 61,
     "metadata": {},
     "output_type": "execute_result"
    }
   ],
   "source": [
    "# changing columns using .columns() \n",
    "data1.columns = ['Age', 'Gender', 'BMI', 'Outcome', \n",
    "                'smoking', 'drinking', 'family']\n",
    "data1"
   ]
  },
  {
   "cell_type": "code",
   "execution_count": 62,
   "metadata": {},
   "outputs": [
    {
     "data": {
      "text/plain": [
       "Age         False\n",
       "Gender      False\n",
       "BMI         False\n",
       "Outcome     False\n",
       "smoking      True\n",
       "drinking     True\n",
       "family      False\n",
       "dtype: bool"
      ]
     },
     "execution_count": 62,
     "metadata": {},
     "output_type": "execute_result"
    }
   ],
   "source": [
    "data1.isnull().any() "
   ]
  },
  {
   "cell_type": "code",
   "execution_count": 63,
   "metadata": {},
   "outputs": [
    {
     "data": {
      "text/plain": [
       "Age              0\n",
       "Gender           0\n",
       "BMI              0\n",
       "Outcome          0\n",
       "smoking     151603\n",
       "drinking    151603\n",
       "family           0\n",
       "dtype: int64"
      ]
     },
     "execution_count": 63,
     "metadata": {},
     "output_type": "execute_result"
    }
   ],
   "source": [
    "#Gives the count of all the null values present in each column\n",
    "data1.isnull().sum()"
   ]
  },
  {
   "cell_type": "code",
   "execution_count": 64,
   "metadata": {},
   "outputs": [
    {
     "data": {
      "text/html": [
       "<div>\n",
       "<style scoped>\n",
       "    .dataframe tbody tr th:only-of-type {\n",
       "        vertical-align: middle;\n",
       "    }\n",
       "\n",
       "    .dataframe tbody tr th {\n",
       "        vertical-align: top;\n",
       "    }\n",
       "\n",
       "    .dataframe thead th {\n",
       "        text-align: right;\n",
       "    }\n",
       "</style>\n",
       "<table border=\"1\" class=\"dataframe\">\n",
       "  <thead>\n",
       "    <tr style=\"text-align: right;\">\n",
       "      <th></th>\n",
       "      <th>Age</th>\n",
       "      <th>Gender</th>\n",
       "      <th>BMI</th>\n",
       "      <th>Outcome</th>\n",
       "      <th>smoking</th>\n",
       "      <th>drinking</th>\n",
       "      <th>family</th>\n",
       "    </tr>\n",
       "  </thead>\n",
       "  <tbody>\n",
       "    <tr>\n",
       "      <td>0</td>\n",
       "      <td>43</td>\n",
       "      <td>2</td>\n",
       "      <td>19.3</td>\n",
       "      <td>0</td>\n",
       "      <td>3.0</td>\n",
       "      <td>3.0</td>\n",
       "      <td>1</td>\n",
       "    </tr>\n",
       "    <tr>\n",
       "      <td>3</td>\n",
       "      <td>59</td>\n",
       "      <td>1</td>\n",
       "      <td>23.1</td>\n",
       "      <td>0</td>\n",
       "      <td>3.0</td>\n",
       "      <td>3.0</td>\n",
       "      <td>0</td>\n",
       "    </tr>\n",
       "    <tr>\n",
       "      <td>9</td>\n",
       "      <td>31</td>\n",
       "      <td>1</td>\n",
       "      <td>22.4</td>\n",
       "      <td>0</td>\n",
       "      <td>3.0</td>\n",
       "      <td>3.0</td>\n",
       "      <td>0</td>\n",
       "    </tr>\n",
       "    <tr>\n",
       "      <td>16</td>\n",
       "      <td>25</td>\n",
       "      <td>2</td>\n",
       "      <td>20.3</td>\n",
       "      <td>0</td>\n",
       "      <td>3.0</td>\n",
       "      <td>3.0</td>\n",
       "      <td>0</td>\n",
       "    </tr>\n",
       "    <tr>\n",
       "      <td>19</td>\n",
       "      <td>66</td>\n",
       "      <td>1</td>\n",
       "      <td>24.9</td>\n",
       "      <td>0</td>\n",
       "      <td>1.0</td>\n",
       "      <td>3.0</td>\n",
       "      <td>0</td>\n",
       "    </tr>\n",
       "    <tr>\n",
       "      <td>...</td>\n",
       "      <td>...</td>\n",
       "      <td>...</td>\n",
       "      <td>...</td>\n",
       "      <td>...</td>\n",
       "      <td>...</td>\n",
       "      <td>...</td>\n",
       "      <td>...</td>\n",
       "    </tr>\n",
       "    <tr>\n",
       "      <td>211799</td>\n",
       "      <td>38</td>\n",
       "      <td>1</td>\n",
       "      <td>24.3</td>\n",
       "      <td>0</td>\n",
       "      <td>2.0</td>\n",
       "      <td>3.0</td>\n",
       "      <td>0</td>\n",
       "    </tr>\n",
       "    <tr>\n",
       "      <td>211806</td>\n",
       "      <td>57</td>\n",
       "      <td>1</td>\n",
       "      <td>25.1</td>\n",
       "      <td>0</td>\n",
       "      <td>1.0</td>\n",
       "      <td>3.0</td>\n",
       "      <td>0</td>\n",
       "    </tr>\n",
       "    <tr>\n",
       "      <td>211812</td>\n",
       "      <td>31</td>\n",
       "      <td>2</td>\n",
       "      <td>22.9</td>\n",
       "      <td>0</td>\n",
       "      <td>3.0</td>\n",
       "      <td>3.0</td>\n",
       "      <td>0</td>\n",
       "    </tr>\n",
       "    <tr>\n",
       "      <td>211826</td>\n",
       "      <td>68</td>\n",
       "      <td>2</td>\n",
       "      <td>28.4</td>\n",
       "      <td>0</td>\n",
       "      <td>3.0</td>\n",
       "      <td>3.0</td>\n",
       "      <td>0</td>\n",
       "    </tr>\n",
       "    <tr>\n",
       "      <td>211832</td>\n",
       "      <td>57</td>\n",
       "      <td>1</td>\n",
       "      <td>27.7</td>\n",
       "      <td>1</td>\n",
       "      <td>1.0</td>\n",
       "      <td>2.0</td>\n",
       "      <td>0</td>\n",
       "    </tr>\n",
       "  </tbody>\n",
       "</table>\n",
       "<p>60230 rows × 7 columns</p>\n",
       "</div>"
      ],
      "text/plain": [
       "        Age  Gender   BMI  Outcome  smoking  drinking  family\n",
       "0        43       2  19.3        0      3.0       3.0       1\n",
       "3        59       1  23.1        0      3.0       3.0       0\n",
       "9        31       1  22.4        0      3.0       3.0       0\n",
       "16       25       2  20.3        0      3.0       3.0       0\n",
       "19       66       1  24.9        0      1.0       3.0       0\n",
       "...     ...     ...   ...      ...      ...       ...     ...\n",
       "211799   38       1  24.3        0      2.0       3.0       0\n",
       "211806   57       1  25.1        0      1.0       3.0       0\n",
       "211812   31       2  22.9        0      3.0       3.0       0\n",
       "211826   68       2  28.4        0      3.0       3.0       0\n",
       "211832   57       1  27.7        1      1.0       2.0       0\n",
       "\n",
       "[60230 rows x 7 columns]"
      ]
     },
     "execution_count": 64,
     "metadata": {},
     "output_type": "execute_result"
    }
   ],
   "source": [
    "data1=data1.dropna()\n",
    "data1"
   ]
  },
  {
   "cell_type": "code",
   "execution_count": 65,
   "metadata": {},
   "outputs": [
    {
     "name": "stdout",
     "output_type": "stream",
     "text": [
      "<class 'pandas.core.frame.DataFrame'>\n",
      "Int64Index: 60230 entries, 0 to 211832\n",
      "Data columns (total 7 columns):\n",
      "Age         60230 non-null int64\n",
      "Gender      60230 non-null int64\n",
      "BMI         60230 non-null float64\n",
      "Outcome     60230 non-null int64\n",
      "smoking     60230 non-null float64\n",
      "drinking    60230 non-null float64\n",
      "family      60230 non-null int64\n",
      "dtypes: float64(3), int64(4)\n",
      "memory usage: 3.7 MB\n",
      "None\n"
     ]
    }
   ],
   "source": [
    "print(data1.info())"
   ]
  },
  {
   "cell_type": "code",
   "execution_count": 66,
   "metadata": {},
   "outputs": [
    {
     "name": "stdout",
     "output_type": "stream",
     "text": [
      "Outcome\n",
      "0    59058\n",
      "1     1172\n",
      "dtype: int64\n"
     ]
    }
   ],
   "source": [
    "data1\n",
    "#groupby and size is used to return the class count of the target variable\n",
    "class_count=data1.groupby('Outcome').size()\n",
    "print(class_count)"
   ]
  },
  {
   "cell_type": "code",
   "execution_count": 80,
   "metadata": {},
   "outputs": [],
   "source": [
    "count_class_0, count_class_1 = data1.Outcome.value_counts()\n",
    "df_class_0 = data1[data1['Outcome'] == 0]\n",
    "df_class_1 = data1[data1['Outcome'] == 1]"
   ]
  },
  {
   "cell_type": "code",
   "execution_count": 81,
   "metadata": {},
   "outputs": [
    {
     "name": "stdout",
     "output_type": "stream",
     "text": [
      "Random under-sampling:\n",
      "1    1172\n",
      "0    1172\n",
      "Name: Outcome, dtype: int64\n"
     ]
    },
    {
     "data": {
      "image/png": "[encoded data removed]",
      "text/plain": [
       "<Figure size 432x288 with 1 Axes>"
      ]
     },
     "metadata": {
      "needs_background": "light"
     },
     "output_type": "display_data"
    }
   ],
   "source": [
    "#performing random under sampling to overcome the biased nature of the model\n",
    "df_class_0_under = df_class_0.sample(count_class_1)\n",
    "df_test_under = pd.concat([df_class_0_under, df_class_1], axis=0)\n",
    "print('Random under-sampling:')\n",
    "print(df_test_under.Outcome.value_counts())\n",
    "#plot that gives the count of each class\n",
    "df_test_under.Outcome.value_counts().plot(kind='bar', title='Count (target)');"
   ]
  },
  {
   "cell_type": "code",
   "execution_count": 82,
   "metadata": {},
   "outputs": [
    {
     "data": {
      "text/plain": [
       "71573     0\n",
       "118336    0\n",
       "102563    0\n",
       "49377     0\n",
       "36916     0\n",
       "         ..\n",
       "211159    1\n",
       "211313    1\n",
       "211395    1\n",
       "211655    1\n",
       "211832    1\n",
       "Name: Outcome, Length: 2344, dtype: int64"
      ]
     },
     "execution_count": 82,
     "metadata": {},
     "output_type": "execute_result"
    }
   ],
   "source": [
    "#target variable after sampling\n",
    "y_sample= df_test_under.Outcome\n",
    "#features after sampling\n",
    "X_sample=df_test_under.drop('Outcome', axis=1)\n",
    "y_sample"
   ]
  },
  {
   "cell_type": "code",
   "execution_count": 83,
   "metadata": {},
   "outputs": [],
   "source": [
    "X_train,X_test,Y_train,Y_test = train_test_split(X_sample,y_sample,test_size=0.20,random_state=0) "
   ]
  },
  {
   "cell_type": "code",
   "execution_count": 84,
   "metadata": {},
   "outputs": [],
   "source": [
    "from sklearn.preprocessing import MinMaxScaler\n",
    "\n",
    "min_max_scaler = MinMaxScaler(feature_range=(0,1))\n",
    "X_train = min_max_scaler.fit_transform(X_train)\n",
    "X_test = min_max_scaler.fit_transform(X_test)"
   ]
  },
  {
   "cell_type": "code",
   "execution_count": 85,
   "metadata": {},
   "outputs": [
    {
     "data": {
      "text/plain": [
       "SVC(C=1.0, break_ties=False, cache_size=200, class_weight=None, coef0=0.0,\n",
       "    decision_function_shape='ovr', degree=3, gamma='scale', kernel='rbf',\n",
       "    max_iter=-1, probability=False, random_state=0, shrinking=True, tol=0.001,\n",
       "    verbose=False)"
      ]
     },
     "execution_count": 85,
     "metadata": {},
     "output_type": "execute_result"
    }
   ],
   "source": [
    "from sklearn.svm import SVC\n",
    "classifier = SVC(kernel='rbf', random_state = 0)\n",
    "classifier.fit(X_train, Y_train)"
   ]
  },
  {
   "cell_type": "code",
   "execution_count": 86,
   "metadata": {},
   "outputs": [],
   "source": [
    "y_pred = classifier.predict(X_test)"
   ]
  },
  {
   "cell_type": "code",
   "execution_count": 87,
   "metadata": {},
   "outputs": [
    {
     "name": "stdout",
     "output_type": "stream",
     "text": [
      "[[141  94]\n",
      " [ 22 212]]\n"
     ]
    },
    {
     "data": {
      "text/plain": [
       "0.7526652452025586"
      ]
     },
     "execution_count": 87,
     "metadata": {},
     "output_type": "execute_result"
    }
   ],
   "source": [
    "from sklearn.metrics import confusion_matrix, accuracy_score\n",
    "cm = confusion_matrix(Y_test, y_pred)\n",
    "print(cm)\n",
    "accuracy_score(Y_test, y_pred)"
   ]
  },
  {
   "cell_type": "code",
   "execution_count": 88,
   "metadata": {
    "scrolled": true
   },
   "outputs": [
    {
     "name": "stdout",
     "output_type": "stream",
     "text": [
      "Classification Report:\n",
      "              precision    recall  f1-score   support\n",
      "\n",
      "           0       0.87      0.60      0.71       235\n",
      "           1       0.69      0.91      0.79       234\n",
      "\n",
      "    accuracy                           0.75       469\n",
      "   macro avg       0.78      0.75      0.75       469\n",
      "weighted avg       0.78      0.75      0.75       469\n",
      "\n",
      "[[141  94]\n",
      " [ 22 212]]\n"
     ]
    }
   ],
   "source": [
    "#classification report for precision, recall and f1-score for both class\n",
    "print('Classification Report:')\n",
    "print(classification_report(Y_test,y_pred, labels=[0,1]))\n",
    "confusion = metrics.confusion_matrix(Y_test, y_pred)\n",
    "print(confusion)\n",
    "#[row, column]\n",
    "TP = confusion[1, 1]\n",
    "TN = confusion[0, 0]\n",
    "FP = confusion[0, 1]\n",
    "FN = confusion[1, 0]"
   ]
  },
  {
   "cell_type": "code",
   "execution_count": 89,
   "metadata": {},
   "outputs": [
    {
     "name": "stdout",
     "output_type": "stream",
     "text": [
      "0.7526652452025586\n",
      "0.7526652452025586\n"
     ]
    }
   ],
   "source": [
    "# use float to perform true division, not integer division\n",
    "print((TP + TN) / float(TP + TN + FP + FN))\n",
    "print(metrics.accuracy_score(Y_test, y_pred))"
   ]
  },
  {
   "cell_type": "code",
   "execution_count": 90,
   "metadata": {},
   "outputs": [
    {
     "name": "stdout",
     "output_type": "stream",
     "text": [
      "0.24733475479744135\n",
      "0.24733475479744138\n"
     ]
    }
   ],
   "source": [
    "\n",
    "classification_error = (FP + FN) / float(TP + TN + FP + FN)\n",
    "\n",
    "print(classification_error)\n",
    "print(1 - metrics.accuracy_score(Y_test, y_pred))"
   ]
  },
  {
   "cell_type": "code",
   "execution_count": 91,
   "metadata": {},
   "outputs": [
    {
     "name": "stdout",
     "output_type": "stream",
     "text": [
      "0.905982905982906\n",
      "0.905982905982906\n"
     ]
    }
   ],
   "source": [
    "sensitivity = TP / float(FN + TP)\n",
    "\n",
    "print(sensitivity)\n",
    "print(metrics.recall_score(Y_test, y_pred))"
   ]
  },
  {
   "cell_type": "code",
   "execution_count": 92,
   "metadata": {},
   "outputs": [
    {
     "name": "stdout",
     "output_type": "stream",
     "text": [
      "0.6\n"
     ]
    }
   ],
   "source": [
    "specificity = TN / (TN + FP)\n",
    "\n",
    "print(specificity)"
   ]
  },
  {
   "cell_type": "code",
   "execution_count": 93,
   "metadata": {},
   "outputs": [
    {
     "name": "stdout",
     "output_type": "stream",
     "text": [
      "0.4\n",
      "0.4\n"
     ]
    }
   ],
   "source": [
    "false_positive_rate = FP / float(TN + FP)\n",
    "\n",
    "print(false_positive_rate)\n",
    "print(1 - specificity)"
   ]
  },
  {
   "cell_type": "code",
   "execution_count": 94,
   "metadata": {},
   "outputs": [
    {
     "name": "stdout",
     "output_type": "stream",
     "text": [
      "0.905982905982906\n"
     ]
    }
   ],
   "source": [
    "recall = TP / float(TP + FN)\n",
    "print(recall)"
   ]
  },
  {
   "cell_type": "code",
   "execution_count": 95,
   "metadata": {},
   "outputs": [
    {
     "name": "stdout",
     "output_type": "stream",
     "text": [
      "0.6928104575163399\n",
      "0.6928104575163399\n"
     ]
    }
   ],
   "source": [
    "precision = TP / float(TP + FP)\n",
    "\n",
    "print(precision)\n",
    "print(metrics.precision_score(Y_test, y_pred))"
   ]
  },
  {
   "cell_type": "code",
   "execution_count": 96,
   "metadata": {},
   "outputs": [
    {
     "name": "stdout",
     "output_type": "stream",
     "text": [
      "0.7851851851851851\n"
     ]
    }
   ],
   "source": [
    "fscore = 2*((precision * recall) / (precision + recall))\n",
    "print(fscore)"
   ]
  },
  {
   "cell_type": "code",
   "execution_count": 97,
   "metadata": {},
   "outputs": [
    {
     "name": "stdout",
     "output_type": "stream",
     "text": [
      "Accuracy: 71.687% (9.098%)\n"
     ]
    }
   ],
   "source": [
    "#validation of model using K-fold cross validation\n",
    "kfold = KFold(n_splits=10)\n",
    "results = cross_val_score(classifier,X_sample,y_sample, cv=kfold)\n",
    "print(\"Accuracy: %.3f%% (%.3f%%)\" % (results.mean()*100.0, results.std()*100.0))"
   ]
  }
 ],
 "metadata": {
  "kernelspec": {
   "display_name": "Python 3",
   "language": "python",
   "name": "python3"
  },
  "language_info": {
   "codemirror_mode": {
    "name": "ipython",
    "version": 3
   },
   "file_extension": ".py",
   "mimetype": "text/x-python",
   "name": "python",
   "nbconvert_exporter": "python",
   "pygments_lexer": "ipython3",
   "version": "3.7.4"
  }
 },
 "nbformat": 4,
 "nbformat_minor": 2
}
